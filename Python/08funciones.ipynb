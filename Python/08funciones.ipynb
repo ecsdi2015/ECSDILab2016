{
 "worksheets": [
  {
   "cells": [
    {
     "cell_type": "heading",
     "metadata": {},
     "level": 1,
     "source": [
      "Funciones "
     ]
    },
    {
     "cell_type": "markdown",
     "metadata": {},
     "source": [
      "Las funciones se definen con def y se pueden documentar con las sintaxis de tres doble comillas"
     ]
    },
    {
     "cell_type": "code",
     "metadata": {},
     "outputs": [
      {
       "output_type": "pyout",
       "prompt_number": 1,
       "text": [
        "9"
       ],
       "metadata": {}
      }
     ],
     "input": [
      "def f(x):\n",
      "    \"\"\" Esto es una funcion\n",
      "    \"\"\"\n",
      "    return x * x\n",
      "\n",
      "f(3)"
     ],
     "language": "python",
     "prompt_number": 1
    },
    {
     "cell_type": "markdown",
     "metadata": {},
     "source": [
      "Y se puede consultar la documentacion de la funcion de manera sencilla"
     ]
    },
    {
     "cell_type": "code",
     "metadata": {},
     "outputs": [
      {
       "output_type": "pyout",
       "prompt_number": 2,
       "text": [
        "' Esto es una funcion\\n    '"
       ],
       "metadata": {}
      }
     ],
     "input": [
      "f.__doc__"
     ],
     "language": "python",
     "prompt_number": 2
    },
    {
     "cell_type": "markdown",
     "metadata": {},
     "source": [
      "El ambito de visibilidad es el habitual, las variables de las funciones son locales"
     ]
    },
    {
     "cell_type": "code",
     "metadata": {},
     "outputs": [
      {
       "output_type": "stream",
       "stream": "stdout",
       "text": [
        "Z= 7 g(3)= 6 Z= 7\n"
       ]
      }
     ],
     "input": [
      "z = 7\n",
      "def g(x):\n",
      "    \"\"\" z es local a la funcion\n",
      "    \"\"\"\n",
      "    z = 3\n",
      "    return x + z\n",
      "\n",
      "print 'Z=', z, 'g(3)=',  g(3), 'Z=', z"
     ],
     "language": "python",
     "prompt_number": 3
    },
    {
     "cell_type": "markdown",
     "metadata": {},
     "source": [
      "Salvo que queramos que una variable de un ambito superior sea visible dentro de la funcion (con los efectos laterales consiguientes) "
     ]
    },
    {
     "cell_type": "code",
     "metadata": {},
     "outputs": [
      {
       "output_type": "stream",
       "stream": "stdout",
       "text": [
        "Z= 7 h(3)= 6 Z= 3\n"
       ]
      }
     ],
     "input": [
      "z = 7\n",
      "def h(x):\n",
      "    \"\"\" z es local a la funcion\n",
      "    \"\"\"\n",
      "    global z\n",
      "    z = 3\n",
      "    return x + z\n",
      "\n",
      "print 'Z=', z, 'h(3)=',  h(3), 'Z=', z"
     ],
     "language": "python",
     "prompt_number": 4
    },
    {
     "cell_type": "markdown",
     "metadata": {},
     "source": [
      "Tenemos parametros obligatorios y opcionales con nombre que deben tener un valor por defecto (mas sobre parametros en la documentacion)"
     ]
    },
    {
     "cell_type": "code",
     "metadata": {},
     "outputs": [
      {
       "output_type": "stream",
       "stream": "stdout",
       "text": [
        "6 7 11\n"
       ]
      }
     ],
     "input": [
      "def f2(x, opt=3):\n",
      "    return x + opt\n",
      "print f2(3), f2(3,4), f2(3,opt=8)"
     ],
     "language": "python",
     "prompt_number": 5
    },
    {
     "cell_type": "markdown",
     "metadata": {},
     "source": [
      "Las funciones son objetos que podemos asignar a variables (y pasar como parametros)"
     ]
    },
    {
     "cell_type": "code",
     "metadata": {},
     "outputs": [
      {
       "output_type": "pyout",
       "prompt_number": 6,
       "text": [
        "22"
       ],
       "metadata": {}
      }
     ],
     "input": [
      "x = f2\n",
      "x(3,opt=19)"
     ],
     "language": "python",
     "prompt_number": 6
    },
    {
     "cell_type": "markdown",
     "metadata": {},
     "source": [
      "Las lambda expresiones generan funciones anonimas que podemos usar tal cual o asignar a variables para usarlas posteriormente"
     ]
    },
    {
     "cell_type": "code",
     "metadata": {},
     "outputs": [
      {
       "output_type": "pyout",
       "text": [
        "5"
       ],
       "metadata": {}
      }
     ],
     "input": [
      "(lambda x, y: x+y) (2,3)"
     ],
     "language": "python",
     "prompt_number": 4
    },
    {
     "cell_type": "code",
     "metadata": {},
     "outputs": [
      {
       "output_type": "pyout",
       "text": [
        "5"
       ],
       "metadata": {}
      }
     ],
     "input": [
      "f = lambda x, y: x + y\n",
      "f(2, 3)"
     ],
     "language": "python",
     "prompt_number": 6
    },
    {
     "cell_type": "markdown",
     "metadata": {},
     "source": [
      "Y tenemos funciones interesantes que permiten una programacion al estilo funcional"
     ]
    },
    {
     "cell_type": "markdown",
     "metadata": {},
     "source": [
      "map aplica una funcion a un conjunto de parametros en una lista (o cualquier cosa iterable)"
     ]
    },
    {
     "cell_type": "code",
     "metadata": {},
     "outputs": [
      {
       "output_type": "pyout",
       "text": [
        "[5, 7, 9]"
       ],
       "metadata": {}
      }
     ],
     "input": [
      "map(f, [1, 2, 3], [4, 5, 6])"
     ],
     "language": "python",
     "prompt_number": 7
    },
    {
     "cell_type": "code",
     "metadata": {},
     "outputs": [
      {
       "output_type": "pyout",
       "text": [
        "['pj', 'eu', 'pa', 'en']"
       ],
       "metadata": {}
      }
     ],
     "input": [
      "map(f, 'pepe', 'juan')"
     ],
     "language": "python",
     "prompt_number": 8
    },
    {
     "cell_type": "markdown",
     "metadata": {},
     "source": [
      "O usar la funcion como una recurrencia aplicada a una lista de valores"
     ]
    },
    {
     "cell_type": "code",
     "metadata": {},
     "outputs": [
      {
       "output_type": "pyout",
       "prompt_number": 9,
       "text": [
        "4950"
       ],
       "metadata": {}
      }
     ],
     "input": [
      "reduce(f, range(1,100))"
     ],
     "language": "python",
     "prompt_number": 9
    }
   ]
  }
 ],
 "cells": [],
 "metadata": {
  "signature": "sha256:c21b79a1db57f064d59c7e3a6148ee675416f58820395216550c421b7f3bad27"
 },
 "nbformat": 3,
 "nbformat_minor": 0
}